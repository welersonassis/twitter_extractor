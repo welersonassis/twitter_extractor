{
 "cells": [
  {
   "cell_type": "code",
   "execution_count": null,
   "id": "9adffc69",
   "metadata": {},
   "outputs": [],
   "source": [
    "import re\n",
    "import json\n",
    "import csv\n",
    "import tweepy\n",
    "import pytz\n",
    "import psycopg2\n",
    "import pandas as pd\n",
    "from datetime import datetime, timedelta\n",
    "from csv import writer"
   ]
  },
  {
   "cell_type": "code",
   "execution_count": null,
   "id": "6294b0f4",
   "metadata": {},
   "outputs": [],
   "source": [
    "consumer_key=environ['CONSUMER_KEY']\n",
    "consumer_secret=environ['CONSUMER_SECRET']\n",
    "access_token=environ['ACCESS_TOKEN']\n",
    "access_token_secret=environ['ACCESS_TOKEN_SECRET']"
   ]
  },
  {
   "cell_type": "code",
   "execution_count": null,
   "id": "b6455c78",
   "metadata": {},
   "outputs": [],
   "source": [
    "# authorization of consumer key and consumer secret\n",
    "auth = tweepy.OAuthHandler(consumer_key, consumer_secret)\n",
    "# set access to user's access key and access secret \n",
    "auth.set_access_token(access_token, access_token_secret)"
   ]
  },
  {
   "cell_type": "code",
   "execution_count": null,
   "id": "38bc2bdf",
   "metadata": {},
   "outputs": [],
   "source": [
    "api = tweepy.API(auth)"
   ]
  },
  {
   "cell_type": "code",
   "execution_count": null,
   "id": "e11397e9",
   "metadata": {},
   "outputs": [],
   "source": [
    "date_obj = datetime.now()"
   ]
  },
  {
   "cell_type": "code",
   "execution_count": null,
   "id": "8b34c22d",
   "metadata": {},
   "outputs": [],
   "source": [
    "tzconfig = pytz.timezone(\"America/Fortaleza\")"
   ]
  },
  {
   "cell_type": "code",
   "execution_count": 7,
   "id": "7f659f13",
   "metadata": {},
   "outputs": [],
   "source": [
    "date_from = datetime(2022,1,16)\n",
    "date_from = date_from.astimezone(tzconfig)\n",
    "date_to = datetime(2023,2,1)\n",
    "date_to = date_to.astimezone(tzconfig)"
   ]
  },
  {
   "cell_type": "code",
   "execution_count": null,
   "id": "d7a90319",
   "metadata": {},
   "outputs": [],
   "source": [
    "date_from = date_obj - timedelta(days=1)\n",
    "date_from_str = date_from.strftime('%Y-%m-%d')\n",
    "date_from = datetime.strptime(date_from_str, '%Y-%m-%d')\n",
    "date_from = date_from.astimezone(tzconfig)"
   ]
  },
  {
   "cell_type": "code",
   "execution_count": null,
   "id": "a0b52786",
   "metadata": {},
   "outputs": [],
   "source": [
    "date_to_str = date_obj.strftime('%Y-%m-%d')\n",
    "date_to = datetime.strptime(date_to_str, '%Y-%m-%d')\n",
    "date_to = date_to.astimezone(tzconfig)"
   ]
  },
  {
   "cell_type": "code",
   "execution_count": 10,
   "id": "9ee30b5b",
   "metadata": {},
   "outputs": [],
   "source": [
    "#date_to = date_obj - timedelta(days=1)\n",
    "#date_to_str = date_to.strftime('%Y-%m-%d')\n",
    "#date_to = datetime.strptime(date_to_str, '%Y-%m-%d')\n",
    "#date_to = date_to.astimezone(tzconfig)"
   ]
  },
  {
   "cell_type": "code",
   "execution_count": null,
   "id": "980a1a6b",
   "metadata": {},
   "outputs": [],
   "source": [
    "tweets = []"
   ]
  },
  {
   "cell_type": "code",
   "execution_count": 12,
   "id": "72a8e22b",
   "metadata": {},
   "outputs": [],
   "source": [
    "#agg_tweets = []"
   ]
  },
  {
   "cell_type": "markdown",
   "id": "62fde4fc",
   "metadata": {},
   "source": [
    "## Postgres connection"
   ]
  },
  {
   "cell_type": "code",
   "execution_count": null,
   "id": "a57d15f4",
   "metadata": {},
   "outputs": [],
   "source": [
    "def connection():\n",
    "    \n",
    "    conn = None\n",
    "    \n",
    "    try:\n",
    "        conn = psycopg2.connect(\n",
    "        host=\"localhost\",\n",
    "        database=\"report_db\",\n",
    "        user=\"postgres\",\n",
    "        password=\"postgres\")\n",
    "    except Exception as error:\n",
    "        print(error)\n",
    "    finally:\n",
    "        if conn:\n",
    "            return conn"
   ]
  },
  {
   "cell_type": "markdown",
   "id": "565cc57b",
   "metadata": {},
   "source": [
    "## Insert tweets"
   ]
  },
  {
   "cell_type": "code",
   "execution_count": null,
   "id": "78c429e9",
   "metadata": {},
   "outputs": [],
   "source": [
    "def insert_tweets(data):\n",
    "    \n",
    "    conn = None\n",
    "    rows = None\n",
    "    \n",
    "    sql = \"\"\"\n",
    "        INSERT INTO tweets(date,tweet_text,candidate_id)\n",
    "        Values(%s,%s,%s)\n",
    "    \"\"\"\n",
    "    \n",
    "    try:\n",
    "        conn = connection()\n",
    "        cur = conn.cursor()\n",
    "        cur.executemany(sql, data)\n",
    "        rows = cur.rowcount\n",
    "        conn.commit()\n",
    "        cur.close()\n",
    "    except Exception as error:\n",
    "        print(error)\n",
    "    finally:\n",
    "        if conn:\n",
    "            conn.close()"
   ]
  },
  {
   "cell_type": "markdown",
   "id": "23566975",
   "metadata": {},
   "source": [
    "## Insert into agg_tweets"
   ]
  },
  {
   "cell_type": "code",
   "execution_count": null,
   "id": "d56c1aae",
   "metadata": {},
   "outputs": [],
   "source": [
    "def insert_agg(data):\n",
    "    \n",
    "    conn = None\n",
    "    rows = None\n",
    "    \n",
    "    sql = \"\"\"\n",
    "        INSERT INTO aggregate_tweets(date,followers_count,tweets_count,word_count,hashtags,retweets,likes,candidate_id)\n",
    "        Values(%s,%s,%s,%s,%s,%s,%s,%s)\n",
    "    \"\"\"\n",
    "    \n",
    "    try:\n",
    "        conn = connection()\n",
    "        cur = conn.cursor()\n",
    "        cur.executemany(sql, data)\n",
    "        rows = cur.rowcount\n",
    "        conn.commit()\n",
    "        cur.close()\n",
    "    except Exception as error:\n",
    "        print(error)\n",
    "    finally:\n",
    "        if conn:\n",
    "            conn.close()\n",
    "            if rows:\n",
    "                print(f'Rows inserted: {rows}')"
   ]
  },
  {
   "cell_type": "markdown",
   "id": "47332068",
   "metadata": {},
   "source": [
    "### Write csv"
   ]
  },
  {
   "cell_type": "markdown",
   "id": "f547e46f",
   "metadata": {},
   "source": [
    "## Word count"
   ]
  },
  {
   "cell_type": "code",
   "execution_count": null,
   "id": "be131767",
   "metadata": {},
   "outputs": [],
   "source": [
    "def write_raw_tweets(data):\n",
    "    with open('raw_tweets.csv', 'a', encoding='UTF8', newline='') as f:\n",
    "        writer = csv.writer(f)\n",
    "        for d in data:\n",
    "            writer.writerow(d) "
   ]
  },
  {
   "cell_type": "code",
   "execution_count": null,
   "id": "6477c064",
   "metadata": {},
   "outputs": [],
   "source": [
    "def write_agg_tweets(data):\n",
    "    with open('aggregate_tweets.csv', 'a', encoding='UTF8', newline='') as f:\n",
    "        writer = csv.writer(f)\n",
    "        for d in data:\n",
    "            writer.writerow(d) "
   ]
  },
  {
   "cell_type": "code",
   "execution_count": null,
   "id": "335177a6",
   "metadata": {},
   "outputs": [],
   "source": [
    "def word_count(tweet_text):\n",
    "    # Cleaning\n",
    "    tweet_text = re.sub(\"@[A-Za-z0-9_]+\",\"\", tweet_text)\n",
    "    tweet_text = re.sub(\"#[A-Za-z0-9_]+\",\"\", tweet_text)\n",
    "    tweet_text = re.sub(r\"http\\S+\", \"\", tweet_text)\n",
    "    tweet_text = re.sub(r\"www.\\S+\", \"\", tweet_text)\n",
    "    tweet_text = re.sub('[()!?]', ' ', tweet_text)\n",
    "    tweet_text = re.sub('\\[.*?\\]',' ', tweet_text)\n",
    "    tweet_text = re.sub(r'[^\\w\\s]', '', tweet_text)\n",
    "    tweet_text = tweet_text.split()\n",
    "    \n",
    "    return len(tweet_text)"
   ]
  },
  {
   "cell_type": "markdown",
   "id": "428e0a77",
   "metadata": {},
   "source": [
    "## Tweets text"
   ]
  },
  {
   "cell_type": "code",
   "execution_count": null,
   "id": "8cd6098a",
   "metadata": {},
   "outputs": [],
   "source": [
    "def get_tweets(candidate_id, tweets, api, date_from, date_to):\n",
    "    hashtags = ''\n",
    "    tweets_raw = []\n",
    "    \n",
    "    for t in tweets:\n",
    "            date = t.created_at\n",
    "            date = date.astimezone(tzconfig)\n",
    "            if date > date_from and date < date_to:\n",
    "                status = api.get_status(t.id, tweet_mode = \"extended\")\n",
    "                text = status.full_text \n",
    "                word = word_count(text)\n",
    "                retweet_count = t.retweet_count\n",
    "                favorite_count = t.favorite_count\n",
    "                if t.entities['hashtags']:\n",
    "                    hash_list = t.entities['hashtags']\n",
    "                    for h in hash_list:\n",
    "                        if hashtags:\n",
    "                            hashtags += ','+h['text']\n",
    "                        else:\n",
    "                            hashtags = h['text']\n",
    "                            \n",
    "                tweets_raw.append([date.strftime('%Y-%m-%d %H:%M:%S'), text, word, hashtags, retweet_count, favorite_count, candidate_id])\n",
    "                \n",
    "                \n",
    "    return tweets_raw"
   ]
  },
  {
   "cell_type": "markdown",
   "id": "aae5abd0",
   "metadata": {},
   "source": [
    "## Hashtags"
   ]
  },
  {
   "cell_type": "code",
   "execution_count": null,
   "id": "7f9f8f1b",
   "metadata": {},
   "outputs": [],
   "source": [
    "def get_hashtags(hashtags):\n",
    "    words = ''\n",
    "    hashtags = set(hashtags)\n",
    "    \n",
    "    for h in hashtags:\n",
    "        if words:\n",
    "            words += ', '+h\n",
    "        else:\n",
    "            words = h\n",
    "    \n",
    "    return words"
   ]
  },
  {
   "cell_type": "markdown",
   "id": "c24d4a1a",
   "metadata": {},
   "source": [
    "## Tweets metrics"
   ]
  },
  {
   "cell_type": "code",
   "execution_count": null,
   "id": "5020b8bd",
   "metadata": {},
   "outputs": [],
   "source": [
    "def tweets_metrics(date_from_str, followers_count, tweets, api, date_from, date_to, candidate_id):\n",
    "    tweets_count = 0\n",
    "    tweets_text = ''\n",
    "    retweet_count = 0 \n",
    "    favorite_count = 0\n",
    "    hashtags = []\n",
    "    \n",
    "    for t in tweets:\n",
    "        date = t.created_at\n",
    "        date = date.astimezone(tzconfig)\n",
    "        if date > date_from and date < date_to:\n",
    "            status = api.get_status(t.id, tweet_mode = \"extended\")\n",
    "            text = status.full_text \n",
    "            tweets_count += 1 \n",
    "            tweets_text += text.lower()\n",
    "            retweet_count += t.retweet_count\n",
    "            favorite_count += t.favorite_count\n",
    "            if t.entities['hashtags']:\n",
    "                hash_list = t.entities['hashtags']\n",
    "                for h in hash_list:\n",
    "                    hashtags.append(h['text'])\n",
    "    if hashtags:\n",
    "        hashtags = get_hashtags(hashtags)\n",
    "    else:\n",
    "        hashtags = ''\n",
    "                        \n",
    "    tweet_word_count = word_count(tweets_text)                     \n",
    "        \n",
    "    return [date_from_str, followers_count, tweets_count, tweet_word_count, hashtags, retweet_count, favorite_count, candidate_id]"
   ]
  },
  {
   "cell_type": "markdown",
   "id": "5d8505c5",
   "metadata": {},
   "source": [
    "# Bolsonaro"
   ]
  },
  {
   "cell_type": "markdown",
   "id": "25807714",
   "metadata": {},
   "source": [
    "### Followers count"
   ]
  },
  {
   "cell_type": "code",
   "execution_count": null,
   "id": "c762e6ca",
   "metadata": {},
   "outputs": [],
   "source": [
    "bolsonaro = api.get_user(screen_name='jairbolsonaro')\n",
    "bolsonaro_followers = bolsonaro.followers_count\n",
    "bolsonaro_followers"
   ]
  },
  {
   "cell_type": "markdown",
   "id": "3df8536b",
   "metadata": {},
   "source": [
    "### Raw tweets"
   ]
  },
  {
   "cell_type": "code",
   "execution_count": null,
   "id": "7a455424",
   "metadata": {},
   "outputs": [],
   "source": [
    "bolsonaro_tweets = api.user_timeline(screen_name='jairbolsonaro', count=5000, include_rts=False, exclude_replies=True)"
   ]
  },
  {
   "cell_type": "code",
   "execution_count": null,
   "id": "ffec4a8b",
   "metadata": {},
   "outputs": [],
   "source": [
    "raw_tweets.extend(get_tweets(22, bolsonaro_tweets, api, date_from, date_to))  "
   ]
  },
  {
   "cell_type": "code",
   "execution_count": null,
   "id": "a81654af",
   "metadata": {},
   "outputs": [],
   "source": [
    "get_tweets(22, bolsonaro_tweets, api, date_from, date_to)"
   ]
  },
  {
   "cell_type": "markdown",
   "id": "fd6733ba",
   "metadata": {},
   "source": [
    "### Metrics"
   ]
  },
  {
   "cell_type": "code",
   "execution_count": null,
   "id": "90738020",
   "metadata": {},
   "outputs": [],
   "source": [
    "bolsonaro_metrics = tweets_metrics(date_from_str, bolsonaro_followers, bolsonaro_tweets, api, date_from, date_to, 22)\n",
    "agg_tweets.append(bolsonaro_metrics)"
   ]
  },
  {
   "cell_type": "markdown",
   "id": "d5f3a22a",
   "metadata": {},
   "source": [
    "# Lula"
   ]
  },
  {
   "cell_type": "markdown",
   "id": "a55284a9",
   "metadata": {},
   "source": [
    "### Followers count"
   ]
  },
  {
   "cell_type": "code",
   "execution_count": null,
   "id": "c4168dce",
   "metadata": {},
   "outputs": [],
   "source": [
    "lula = api.get_user(screen_name='LulaOficial')\n",
    "lula_followers = lula.followers_count\n",
    "lula_followers"
   ]
  },
  {
   "cell_type": "markdown",
   "id": "ac259a30",
   "metadata": {},
   "source": [
    "### Raw tweets"
   ]
  },
  {
   "cell_type": "code",
   "execution_count": null,
   "id": "6c79ee4c",
   "metadata": {},
   "outputs": [],
   "source": [
    "lula_tweets = api.user_timeline(screen_name='LulaOficial', count=5000, include_rts=False, exclude_replies=True)"
   ]
  },
  {
   "cell_type": "code",
   "execution_count": null,
   "id": "eb87682d",
   "metadata": {},
   "outputs": [],
   "source": [
    "raw_tweets.extend(get_tweets(13, lula_tweets, api, date_from, date_to))  "
   ]
  },
  {
   "cell_type": "markdown",
   "id": "086ca897",
   "metadata": {},
   "source": [
    "### Metrics"
   ]
  },
  {
   "cell_type": "code",
   "execution_count": null,
   "id": "14bfc1a7",
   "metadata": {},
   "outputs": [],
   "source": [
    "lula_metrics = tweets_metrics(date_from_str, lula_followers, lula_tweets, api, date_from, date_to, 13)\n",
    "agg_tweets.append(lula_metrics)"
   ]
  },
  {
   "cell_type": "markdown",
   "id": "170a844e",
   "metadata": {},
   "source": [
    "## Insert"
   ]
  },
  {
   "cell_type": "code",
   "execution_count": null,
   "id": "9b1efe97",
   "metadata": {},
   "outputs": [],
   "source": [
    "insert_raw(raw_tweets)"
   ]
  }
 ],
 "metadata": {
  "kernelspec": {
   "display_name": "Python 3 (ipykernel)",
   "language": "python",
   "name": "python3"
  },
  "language_info": {
   "codemirror_mode": {
    "name": "ipython",
    "version": 3
   },
   "file_extension": ".py",
   "mimetype": "text/x-python",
   "name": "python",
   "nbconvert_exporter": "python",
   "pygments_lexer": "ipython3",
   "version": "3.9.12"
  }
 },
 "nbformat": 4,
 "nbformat_minor": 5
}
